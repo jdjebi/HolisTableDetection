{
 "cells": [
  {
   "attachments": {},
   "cell_type": "markdown",
   "metadata": {
    "id": "6FWeD_Wdq6dJ"
   },
   "source": [
    "# Classification tables d'intérêt des pdf"
   ]
  },
  {
   "cell_type": "markdown",
   "metadata": {},
   "source": [
    "#### Import"
   ]
  },
  {
   "cell_type": "code",
   "execution_count": 22,
   "metadata": {},
   "outputs": [
    {
     "name": "stdout",
     "output_type": "stream",
     "text": [
      "Collecting seabornNote: you may need to restart the kernel to use updated packages.\n",
      "\n",
      "  Using cached seaborn-0.13.0-py3-none-any.whl.metadata (5.3 kB)\n",
      "Requirement already satisfied: numpy!=1.24.0,>=1.20 in c:\\users\\s.doudou\\documents\\geek\\geeks v2\\table-transformer\\myenv\\lib\\site-packages (from seaborn) (1.26.2)\n",
      "Requirement already satisfied: pandas>=1.2 in c:\\users\\s.doudou\\documents\\geek\\geeks v2\\table-transformer\\myenv\\lib\\site-packages (from seaborn) (2.1.3)\n",
      "Requirement already satisfied: matplotlib!=3.6.1,>=3.3 in c:\\users\\s.doudou\\documents\\geek\\geeks v2\\table-transformer\\myenv\\lib\\site-packages (from seaborn) (3.8.2)\n",
      "Requirement already satisfied: contourpy>=1.0.1 in c:\\users\\s.doudou\\documents\\geek\\geeks v2\\table-transformer\\myenv\\lib\\site-packages (from matplotlib!=3.6.1,>=3.3->seaborn) (1.2.0)\n",
      "Requirement already satisfied: cycler>=0.10 in c:\\users\\s.doudou\\documents\\geek\\geeks v2\\table-transformer\\myenv\\lib\\site-packages (from matplotlib!=3.6.1,>=3.3->seaborn) (0.12.1)\n",
      "Requirement already satisfied: fonttools>=4.22.0 in c:\\users\\s.doudou\\documents\\geek\\geeks v2\\table-transformer\\myenv\\lib\\site-packages (from matplotlib!=3.6.1,>=3.3->seaborn) (4.46.0)\n",
      "Requirement already satisfied: kiwisolver>=1.3.1 in c:\\users\\s.doudou\\documents\\geek\\geeks v2\\table-transformer\\myenv\\lib\\site-packages (from matplotlib!=3.6.1,>=3.3->seaborn) (1.4.5)\n",
      "Requirement already satisfied: packaging>=20.0 in c:\\users\\s.doudou\\documents\\geek\\geeks v2\\table-transformer\\myenv\\lib\\site-packages (from matplotlib!=3.6.1,>=3.3->seaborn) (23.2)\n",
      "Requirement already satisfied: pillow>=8 in c:\\users\\s.doudou\\documents\\geek\\geeks v2\\table-transformer\\myenv\\lib\\site-packages (from matplotlib!=3.6.1,>=3.3->seaborn) (10.1.0)\n",
      "Requirement already satisfied: pyparsing>=2.3.1 in c:\\users\\s.doudou\\documents\\geek\\geeks v2\\table-transformer\\myenv\\lib\\site-packages (from matplotlib!=3.6.1,>=3.3->seaborn) (3.1.1)\n",
      "Requirement already satisfied: python-dateutil>=2.7 in c:\\users\\s.doudou\\documents\\geek\\geeks v2\\table-transformer\\myenv\\lib\\site-packages (from matplotlib!=3.6.1,>=3.3->seaborn) (2.8.2)\n",
      "Requirement already satisfied: pytz>=2020.1 in c:\\users\\s.doudou\\documents\\geek\\geeks v2\\table-transformer\\myenv\\lib\\site-packages (from pandas>=1.2->seaborn) (2023.3.post1)\n",
      "Requirement already satisfied: tzdata>=2022.1 in c:\\users\\s.doudou\\documents\\geek\\geeks v2\\table-transformer\\myenv\\lib\\site-packages (from pandas>=1.2->seaborn) (2023.3)\n",
      "Requirement already satisfied: six>=1.5 in c:\\users\\s.doudou\\documents\\geek\\geeks v2\\table-transformer\\myenv\\lib\\site-packages (from python-dateutil>=2.7->matplotlib!=3.6.1,>=3.3->seaborn) (1.16.0)\n",
      "Using cached seaborn-0.13.0-py3-none-any.whl (294 kB)\n",
      "Installing collected packages: seaborn\n",
      "Successfully installed seaborn-0.13.0\n"
     ]
    }
   ],
   "source": [
    "# pip install seaborn"
   ]
  },
  {
   "cell_type": "code",
   "execution_count": 23,
   "metadata": {},
   "outputs": [],
   "source": [
    "import pandas as pd\n",
    "import numpy as np\n",
    "import matplotlib.pyplot as plt\n",
    "import re\n",
    "import nltk\n",
    "from nltk.tokenize import word_tokenize\n",
    "import seaborn as sns\n",
    "import warnings\n",
    "warnings.filterwarnings('ignore')\n",
    "from nltk.stem import PorterStemmer, WordNetLemmatizer\n",
    "from nltk.corpus import stopwords\n",
    "%config IPCompleter.greedy = True\n",
    "%matplotlib inline"
   ]
  },
  {
   "cell_type": "code",
   "execution_count": 24,
   "metadata": {},
   "outputs": [
    {
     "data": {
      "text/html": [
       "<div>\n",
       "<style scoped>\n",
       "    .dataframe tbody tr th:only-of-type {\n",
       "        vertical-align: middle;\n",
       "    }\n",
       "\n",
       "    .dataframe tbody tr th {\n",
       "        vertical-align: top;\n",
       "    }\n",
       "\n",
       "    .dataframe thead th {\n",
       "        text-align: right;\n",
       "    }\n",
       "</style>\n",
       "<table border=\"1\" class=\"dataframe\">\n",
       "  <thead>\n",
       "    <tr style=\"text-align: right;\">\n",
       "      <th></th>\n",
       "      <th>text</th>\n",
       "      <th>interest_table</th>\n",
       "    </tr>\n",
       "  </thead>\n",
       "  <tbody>\n",
       "    <tr>\n",
       "      <th>0</th>\n",
       "      <td>MARK NO. QTY SIZE SERIES FACING TYPE MIN. HOLE...</td>\n",
       "      <td>1</td>\n",
       "    </tr>\n",
       "    <tr>\n",
       "      <th>1</th>\n",
       "      <td>CONFIDENTIAL THIS DRAWING IS THE SOLE PROPERTY...</td>\n",
       "      <td>0</td>\n",
       "    </tr>\n",
       "    <tr>\n",
       "      <th>2</th>\n",
       "      <td>TAM. RVVess ff UVRVoOLU  Part Numbers  FIND  y...</td>\n",
       "      <td>1</td>\n",
       "    </tr>\n",
       "    <tr>\n",
       "      <th>3</th>\n",
       "      <td>cen a a a ec ll Ml A aca  sia seca  Part Numbe...</td>\n",
       "      <td>1</td>\n",
       "    </tr>\n",
       "    <tr>\n",
       "      <th>4</th>\n",
       "      <td>Part Numbers  DESCRIPTION | QTY|(*) spare pars...</td>\n",
       "      <td>1</td>\n",
       "    </tr>\n",
       "  </tbody>\n",
       "</table>\n",
       "</div>"
      ],
      "text/plain": [
       "                                                text  interest_table\n",
       "0  MARK NO. QTY SIZE SERIES FACING TYPE MIN. HOLE...               1\n",
       "1  CONFIDENTIAL THIS DRAWING IS THE SOLE PROPERTY...               0\n",
       "2  TAM. RVVess ff UVRVoOLU  Part Numbers  FIND  y...               1\n",
       "3  cen a a a ec ll Ml A aca  sia seca  Part Numbe...               1\n",
       "4  Part Numbers  DESCRIPTION | QTY|(*) spare pars...               1"
      ]
     },
     "execution_count": 24,
     "metadata": {},
     "output_type": "execute_result"
    }
   ],
   "source": [
    "dath_path = r'C:\\Users\\s.doudou\\Documents\\GEEK\\Geeks V2\\table-transformer\\datasets\\csv\\table_dataset.csv'\n",
    "data = pd.read_csv(dath_path, delimiter=';')\n",
    "df = data[['text', 'interest_table']]\n",
    "\n",
    "df.head()"
   ]
  },
  {
   "cell_type": "markdown",
   "metadata": {},
   "source": [
    "### Proportion des valeurs"
   ]
  },
  {
   "cell_type": "code",
   "execution_count": 25,
   "metadata": {},
   "outputs": [
    {
     "data": {
      "text/plain": [
       "interest_table\n",
       "0    601\n",
       "1    147\n",
       "Name: count, dtype: int64"
      ]
     },
     "execution_count": 25,
     "metadata": {},
     "output_type": "execute_result"
    }
   ],
   "source": [
    "df['interest_table'].value_counts()"
   ]
  },
  {
   "cell_type": "code",
   "execution_count": 29,
   "metadata": {},
   "outputs": [
    {
     "data": {
      "image/png": "[encoded data removed]",
      "text/plain": [
       "<Figure size 800x500 with 1 Axes>"
      ]
     },
     "metadata": {},
     "output_type": "display_data"
    }
   ],
   "source": [
    "plt.figure(figsize=(8, 5))\n",
    "sns.countplot(data=df, x='interest_table', hue='interest_table')\n",
    "\n",
    "# Set labels and title\n",
    "plt.xlabel('Interest Table')\n",
    "plt.ylabel('Count')\n",
    "plt.title('Count Plot for Values 0 and 1')\n",
    "\n",
    "# Show the plot\n",
    "plt.show()"
   ]
  },
  {
   "attachments": {},
   "cell_type": "markdown",
   "metadata": {},
   "source": [
    "## Data cleaning"
   ]
  },
  {
   "cell_type": "code",
   "execution_count": 30,
   "metadata": {},
   "outputs": [],
   "source": [
    "# nltk.download('stopwords')\n",
    "# nltk.download('popular')\n",
    "# pip install scikit-learn"
   ]
  },
  {
   "cell_type": "code",
   "execution_count": 31,
   "metadata": {},
   "outputs": [],
   "source": [
    "from nltk.tokenize import word_tokenize\n",
    "from nltk.corpus import stopwords\n",
    "from nltk.stem import PorterStemmer\n",
    "import re\n",
    "import pandas as pd\n",
    "\n",
    "def cleaning_pdf_interest(df, col_name):\n",
    "    porter = PorterStemmer()\n",
    "    stop_words = set(stopwords.words())\n",
    "\n",
    "    def clean_text(text):\n",
    "        text = str(text)\n",
    "        text = text.lower()\n",
    "        text = re.sub('(<.*?>)|(\\n)|([^\\w\\s\\.\\,])|([_])|([.])|([,])|(\\s\\s+)|([ا-ي])', '', text)\n",
    "        cleaned_text = ' '.join([porter.stem(i) for i in word_tokenize(text) if i not in stop_words])\n",
    "        return cleaned_text\n",
    "\n",
    "    cleaned_column = df[col_name].apply(clean_text)\n",
    "    \n",
    "    return cleaned_column"
   ]
  },
  {
   "attachments": {},
   "cell_type": "markdown",
   "metadata": {},
   "source": [
    "\n",
    "* Chaque mot est transformer en miniscule avec lower.\n",
    "* on utilise une expression reguliere pour remplacer  : les balise html, les retour a la ligne, les caractere spéciaux qui ne sont pas des point ou des virgule  (par exemple, !, ?, :) ,les underscore, les points, les virgules, les espace multiple et les mots non anglais par un espace vide\n",
    "* chaque mot qui n'est pas un stop_word (and, or, but, etc) est tokenizer et on retour sa basse (ex : terreste devient terre)\n"
   ]
  },
  {
   "cell_type": "code",
   "execution_count": 32,
   "metadata": {},
   "outputs": [],
   "source": [
    "df['text'] = cleaning_pdf_interest(df,'text')"
   ]
  },
  {
   "cell_type": "code",
   "execution_count": 33,
   "metadata": {},
   "outputs": [
    {
     "data": {
      "text/plain": [
       "0    mark qti size seri face type hole id neckservi...\n",
       "1    confidenti draw sole properti peerlessmfg comp...\n",
       "2    tam rvvess ff uvrvoolupart numbersfindy descri...\n",
       "3    cen ec ml acasia secapart numbersfindy descrip...\n",
       "4    part numbersdescript qti spare par recommended...\n",
       "Name: text, dtype: object"
      ]
     },
     "execution_count": 33,
     "metadata": {},
     "output_type": "execute_result"
    }
   ],
   "source": [
    "df['text'][:5]"
   ]
  },
  {
   "attachments": {},
   "cell_type": "markdown",
   "metadata": {},
   "source": [
    "## Split train and test"
   ]
  },
  {
   "cell_type": "code",
   "execution_count": 34,
   "metadata": {},
   "outputs": [],
   "source": [
    "# pip install scikit-learn"
   ]
  },
  {
   "cell_type": "code",
   "execution_count": 39,
   "metadata": {},
   "outputs": [],
   "source": [
    "from sklearn.model_selection import train_test_split\n",
    "X = df['text'].tolist()\n",
    "y = df['interest_table'].tolist()\n",
    "y = [int(x) for x in y]\n",
    "\n",
    "X_train, X_test, y_train, y_test = train_test_split(X, y, test_size=0.3, stratify=y, random_state=42)"
   ]
  },
  {
   "cell_type": "code",
   "execution_count": 40,
   "metadata": {},
   "outputs": [],
   "source": [
    "# pip install scikit-learn"
   ]
  },
  {
   "cell_type": "markdown",
   "metadata": {},
   "source": [
    "### Vectorisation "
   ]
  },
  {
   "cell_type": "code",
   "execution_count": 41,
   "metadata": {},
   "outputs": [],
   "source": [
    "from sklearn.feature_extraction.text import TfidfVectorizer\n",
    "\n",
    "tfidf_vector = TfidfVectorizer(stop_words='english', max_features=None, max_df=0.5, min_df=2, ngram_range=(1,1))\n",
    "\n",
    "X_train = tfidf_vector.fit_transform(X_train)\n",
    "X_test = tfidf_vector.transform(X_test)"
   ]
  },
  {
   "attachments": {},
   "cell_type": "markdown",
   "metadata": {},
   "source": [
    "## Model"
   ]
  },
  {
   "attachments": {},
   "cell_type": "markdown",
   "metadata": {},
   "source": [
    "## 1- Logistic regression"
   ]
  },
  {
   "cell_type": "code",
   "execution_count": 42,
   "metadata": {},
   "outputs": [],
   "source": [
    "from sklearn.linear_model import LogisticRegression\n",
    "from sklearn.metrics import classification_report\n",
    "from sklearn.metrics import roc_curve, auc\n"
   ]
  },
  {
   "cell_type": "code",
   "execution_count": 43,
   "metadata": {},
   "outputs": [
    {
     "name": "stdout",
     "output_type": "stream",
     "text": [
      "              precision    recall  f1-score   support\n",
      "\n",
      "           0       0.88      1.00      0.94       181\n",
      "           1       1.00      0.43      0.60        44\n",
      "\n",
      "    accuracy                           0.89       225\n",
      "   macro avg       0.94      0.72      0.77       225\n",
      "weighted avg       0.90      0.89      0.87       225\n",
      "\n"
     ]
    }
   ],
   "source": [
    "lr = LogisticRegression(random_state=42)\n",
    "lr = lr.fit(X_train, y_train)\n",
    "y_pred = lr.predict(X_test)\n",
    "print(classification_report(y_test, y_pred))"
   ]
  },
  {
   "cell_type": "code",
   "execution_count": 44,
   "metadata": {},
   "outputs": [
    {
     "data": {
      "image/png": "[encoded data removed]",
      "text/plain": [
       "<Figure size 800x800 with 1 Axes>"
      ]
     },
     "metadata": {},
     "output_type": "display_data"
    }
   ],
   "source": [
    "y_prob = lr.predict_proba(X_test)[:, 1]\n",
    "fpr, tpr, thresholds = roc_curve(y_test, y_prob)\n",
    "roc_auc = auc(fpr, tpr)\n",
    "\n",
    "# Plot the ROC curve\n",
    "plt.figure(figsize=(8, 8))\n",
    "plt.plot(fpr, tpr, color='darkorange', lw=2, label=f'AUC = {roc_auc:.2f}')\n",
    "plt.plot([0, 1], [0, 1], color='navy', lw=2, linestyle='--')\n",
    "plt.xlim([0.0, 1.0])\n",
    "plt.ylim([0.0, 1.05])\n",
    "plt.xlabel('False Positive Rate (FPR)')\n",
    "plt.ylabel('True Positive Rate (TPR)')\n",
    "plt.title('Receiver Operating Characteristic (ROC) Curve')\n",
    "plt.legend(loc='lower right')\n",
    "plt.show()"
   ]
  },
  {
   "cell_type": "code",
   "execution_count": 45,
   "metadata": {},
   "outputs": [
    {
     "name": "stdout",
     "output_type": "stream",
     "text": [
      " feature : 2055 : {'pospart'}\n",
      " feature : 213 : {'135'}\n",
      " feature : 1995 : {'pagina'}\n",
      " feature : 2002 : {'pc'}\n",
      " feature : 1642 : {'gener'}\n",
      " feature : 1968 : {'number'}\n",
      " feature : 1193 : {'approv'}\n",
      " feature : 1544 : {'engineproduct'}\n",
      " feature : 2045 : {'po'}\n",
      " feature : 1385 : {'cpage'}\n"
     ]
    }
   ],
   "source": [
    "coef_abs = abs(lr.coef_[0]).tolist()\n",
    "feature_scores = pd.Series(coef_abs).sort_values(ascending=False)\n",
    "lr_best_index = feature_scores[:10].index\n",
    "for index in lr_best_index:\n",
    "    print(f' feature : {index} :', {tfidf_vector.get_feature_names_out()[index]})\n"
   ]
  },
  {
   "attachments": {},
   "cell_type": "markdown",
   "metadata": {},
   "source": [
    "## 2-Random forest"
   ]
  },
  {
   "cell_type": "code",
   "execution_count": 46,
   "metadata": {},
   "outputs": [],
   "source": [
    "from sklearn.ensemble import RandomForestClassifier"
   ]
  },
  {
   "cell_type": "code",
   "execution_count": 47,
   "metadata": {},
   "outputs": [],
   "source": [
    "rf = RandomForestClassifier(min_samples_split=5 ,max_depth=10, random_state=42)\n",
    "rf = rf.fit(X_train, y_train)\n",
    "y_pred2 = rf.predict(X_test)"
   ]
  },
  {
   "cell_type": "code",
   "execution_count": 48,
   "metadata": {},
   "outputs": [
    {
     "name": "stdout",
     "output_type": "stream",
     "text": [
      "              precision    recall  f1-score   support\n",
      "\n",
      "           0       0.93      1.00      0.96       181\n",
      "           1       1.00      0.68      0.81        44\n",
      "\n",
      "    accuracy                           0.94       225\n",
      "   macro avg       0.96      0.84      0.89       225\n",
      "weighted avg       0.94      0.94      0.93       225\n",
      "\n"
     ]
    }
   ],
   "source": [
    "print(classification_report(y_test, y_pred2))"
   ]
  },
  {
   "cell_type": "code",
   "execution_count": 49,
   "metadata": {},
   "outputs": [
    {
     "data": {
      "image/png": "[encoded data removed]",
      "text/plain": [
       "<Figure size 800x800 with 1 Axes>"
      ]
     },
     "metadata": {},
     "output_type": "display_data"
    }
   ],
   "source": [
    "y_prob = rf.predict_proba(X_test)[:, 1]\n",
    "fpr, tpr, thresholds = roc_curve(y_test, y_prob)\n",
    "roc_auc = auc(fpr, tpr)\n",
    "\n",
    "# Plot the ROC curve\n",
    "plt.figure(figsize=(8, 8))\n",
    "plt.plot(fpr, tpr, color='darkorange', lw=2, label=f'AUC = {roc_auc:.2f}')\n",
    "plt.plot([0, 1], [0, 1], color='navy', lw=2, linestyle='--')\n",
    "plt.xlim([0.0, 1.0])\n",
    "plt.ylim([0.0, 1.05])\n",
    "plt.xlabel('False Positive Rate (FPR)')\n",
    "plt.ylabel('True Positive Rate (TPR)')\n",
    "plt.title('Receiver Operating Characteristic (ROC) Curve')\n",
    "plt.legend(loc='lower right')\n",
    "plt.show()"
   ]
  },
  {
   "cell_type": "code",
   "execution_count": 50,
   "metadata": {},
   "outputs": [
    {
     "name": "stdout",
     "output_type": "stream",
     "text": [
      " feature : 2055 : {'pospart'}\n",
      " feature : 1872 : {'machin'}\n",
      " feature : 1486 : {'dwg'}\n",
      " feature : 1699 : {'id'}\n",
      " feature : 2058 : {'pqr'}\n",
      " feature : 1642 : {'gener'}\n",
      " feature : 2350 : {'spteeee'}\n",
      " feature : 1378 : {'copyright'}\n",
      " feature : 2044 : {'pn'}\n",
      " feature : 14 : {'001'}\n"
     ]
    }
   ],
   "source": [
    "feature_scores = pd.Series(rf.feature_importances_).sort_values(ascending=False)\n",
    "rf_best_index = feature_scores[:10].index\n",
    "for index in rf_best_index:\n",
    "    print(f' feature : {index} :', {tfidf_vector.get_feature_names_out()[index]})\n"
   ]
  },
  {
   "attachments": {},
   "cell_type": "markdown",
   "metadata": {},
   "source": [
    "## 3-LinearSV"
   ]
  },
  {
   "cell_type": "code",
   "execution_count": 51,
   "metadata": {},
   "outputs": [
    {
     "name": "stdout",
     "output_type": "stream",
     "text": [
      "              precision    recall  f1-score   support\n",
      "\n",
      "           0       0.95      1.00      0.97       181\n",
      "           1       1.00      0.77      0.87        44\n",
      "\n",
      "    accuracy                           0.96       225\n",
      "   macro avg       0.97      0.89      0.92       225\n",
      "weighted avg       0.96      0.96      0.95       225\n",
      "\n"
     ]
    }
   ],
   "source": [
    "from sklearn.svm import LinearSVC\n",
    "svm = LinearSVC(random_state=42)\n",
    "svm = svm.fit(X_train, y_train)\n",
    "y_pred3 = svm.predict(X_test)\n",
    "print(classification_report(y_test, y_pred3))"
   ]
  },
  {
   "cell_type": "code",
   "execution_count": 52,
   "metadata": {},
   "outputs": [
    {
     "data": {
      "image/png": "[encoded data removed]",
      "text/plain": [
       "<Figure size 800x800 with 1 Axes>"
      ]
     },
     "metadata": {},
     "output_type": "display_data"
    }
   ],
   "source": [
    "y_scores = svm.decision_function(X_test)\n",
    "fpr, tpr, thresholds = roc_curve(y_test, y_scores)\n",
    "roc_auc = auc(fpr, tpr)\n",
    "\n",
    "# Plot the ROC curve\n",
    "plt.figure(figsize=(8, 8))\n",
    "plt.plot(fpr, tpr, color='darkorange', lw=2, label=f'AUC = {roc_auc:.2f}')\n",
    "plt.plot([0, 1], [0, 1], color='navy', lw=2, linestyle='--')\n",
    "plt.xlim([0.0, 1.0])\n",
    "plt.ylim([0.0, 1.05])\n",
    "plt.xlabel('False Positive Rate (FPR)')\n",
    "plt.ylabel('True Positive Rate (TPR)')\n",
    "plt.title('Receiver Operating Characteristic (ROC) Curve')\n",
    "plt.legend(loc='lower right')\n",
    "plt.show()"
   ]
  },
  {
   "cell_type": "code",
   "execution_count": 53,
   "metadata": {},
   "outputs": [
    {
     "name": "stdout",
     "output_type": "stream",
     "text": [
      " feature : 2055 : {'pospart'}\n",
      " feature : 213 : {'135'}\n",
      " feature : 2106 : {'radiat'}\n",
      " feature : 1642 : {'gener'}\n",
      " feature : 1936 : {'nan'}\n",
      " feature : 2045 : {'po'}\n",
      " feature : 1995 : {'pagina'}\n",
      " feature : 1981 : {'ooo'}\n",
      " feature : 2301 : {'serial'}\n",
      " feature : 1143 : {'aaa'}\n"
     ]
    }
   ],
   "source": [
    "coef_abs = abs(svm.coef_[0]).tolist()\n",
    "feature_scores = pd.Series(coef_abs).sort_values(ascending=False)\n",
    "svm_best_index = feature_scores[:10].index\n",
    "\n",
    "\n",
    "for index in svm_best_index:\n",
    "    print(f' feature : {index} :', {tfidf_vector.get_feature_names_out()[index]})\n"
   ]
  },
  {
   "cell_type": "markdown",
   "metadata": {},
   "source": [
    "## sauvegarde des models "
   ]
  },
  {
   "cell_type": "code",
   "execution_count": 54,
   "metadata": {},
   "outputs": [
    {
     "data": {
      "text/plain": [
       "['.git',\n",
       " '.gitignore',\n",
       " '.idea',\n",
       " 'config',\n",
       " 'datasets',\n",
       " 'exttraction_for_inference.py',\n",
       " 'merge_text_and_scan_dataset.py',\n",
       " 'myenv',\n",
       " 'npl_data_classifaction.ipynb',\n",
       " 'pdf_scan_table_pages_extraction.py',\n",
       " 'pdf_text_data_extraction.py',\n",
       " 'preprocess',\n",
       " 'Readme.md',\n",
       " 'requirements.txt',\n",
       " 'table-transformer',\n",
       " 'table_detector.py',\n",
       " 'test_datasets',\n",
       " 'utils',\n",
       " '__pycache__']"
      ]
     },
     "execution_count": 54,
     "metadata": {},
     "output_type": "execute_result"
    }
   ],
   "source": [
    "import os\n",
    "os.listdir()"
   ]
  },
  {
   "cell_type": "code",
   "execution_count": 66,
   "metadata": {},
   "outputs": [],
   "source": [
    "# import joblib\n",
    "# os.makedirs('table_classifier_models')\n",
    "# joblib.dump(lr, 'table_classifier_models/lr_model.pk')\n",
    "# joblib.dump(rf, 'table_classifier_models/rf_model.pkl')\n",
    "# joblib.dump(svm, 'table_classifier_models/svm_model.pkl')\n"
   ]
  },
  {
   "cell_type": "code",
   "execution_count": 67,
   "metadata": {},
   "outputs": [],
   "source": [
    "lr_model = joblib.load('./table_classifier_models/lr_model.pk')\n",
    "lr_model = joblib.load('./table_classifier_models/rf_model.pkl')\n",
    "svm_model = joblib.load('./table_classifier_models/svm_model.pkl')"
   ]
  },
  {
   "cell_type": "markdown",
   "metadata": {},
   "source": [
    "# Test sur les données non annotées"
   ]
  },
  {
   "cell_type": "code",
   "execution_count": 68,
   "metadata": {},
   "outputs": [],
   "source": [
    "# from exttraction_for_inference import extract_data"
   ]
  },
  {
   "cell_type": "code",
   "execution_count": 75,
   "metadata": {},
   "outputs": [],
   "source": [
    "test_path = r'C:\\Users\\s.doudou\\Documents\\GEEK\\Geeks V2\\table-transformer\\test_datasets\\csv\\table_dataset.csv'\n",
    "\n",
    "\n",
    "test_data = pd.read_csv(test_path, delimiter=\";\")\n",
    "test_data['text'] = cleaning_pdf_interest(test_data, 'text')\n",
    "y_test_data = tfidf_vector.transform(test_data['text'].tolist())"
   ]
  },
  {
   "cell_type": "code",
   "execution_count": 76,
   "metadata": {},
   "outputs": [],
   "source": [
    "pred = lr_model.predict(y_test_data)"
   ]
  },
  {
   "cell_type": "code",
   "execution_count": 77,
   "metadata": {},
   "outputs": [
    {
     "data": {
      "text/plain": [
       "array([1, 0, 1, 1, 1, 1, 0, 1, 0, 0, 0, 0, 0, 1, 0, 0, 0, 0, 0, 0, 0, 0,\n",
       "       0, 0, 0, 0, 0, 0, 0, 0, 0, 0, 0, 0, 0, 0, 0, 0, 0, 0, 0, 0, 1, 1,\n",
       "       0, 0, 0, 0, 0, 0, 0, 0, 0, 0, 0, 0, 0, 0, 0, 1, 0, 0, 0, 1, 0, 0,\n",
       "       0, 0, 0, 0, 0, 0, 1, 0, 0, 0, 0, 0, 0, 0, 0, 0, 0, 0, 0, 0, 0, 0,\n",
       "       0, 0, 0, 0, 0, 0, 0, 0, 0, 0, 0, 0, 0, 0, 0, 0, 0, 0, 0, 0, 0, 0,\n",
       "       0, 0, 0, 0, 0, 0, 0, 0, 0, 0, 1, 1, 1, 1, 1, 1, 1, 1, 1, 1, 1, 1,\n",
       "       1, 1, 1, 1, 1, 1, 1, 1, 1, 1, 1, 1, 1, 1, 1, 1, 1, 1, 1, 0, 0, 0,\n",
       "       0, 0, 1, 1, 1, 1, 1, 1, 1, 1, 1, 1, 1, 1, 1, 1, 0, 0, 0, 0, 0, 0,\n",
       "       0, 0, 0, 0, 0, 0, 0, 0, 0, 0, 0, 0, 0, 0, 0, 0, 0, 0, 0, 0, 0, 0,\n",
       "       0, 0, 0, 0, 0, 0, 0, 0, 0, 0, 0, 0, 0, 0, 0, 0, 0, 0, 0, 0, 0, 0,\n",
       "       0, 0, 0, 0, 0, 0, 0, 0, 0, 0, 0, 0, 0, 0, 0, 0, 0, 0, 0, 0, 0, 0,\n",
       "       0, 0, 0, 0, 0, 0, 0, 0, 0, 0, 0, 0, 0, 0, 0, 0, 0, 0, 0, 0, 0, 0,\n",
       "       0, 0, 0, 0, 0, 0, 0, 0, 0, 0, 0, 0, 0, 0, 0, 0, 0, 0, 0, 0, 0, 0,\n",
       "       0, 0, 0, 0, 0, 0, 0, 0, 0, 0, 0, 0, 0, 0, 0, 0, 0, 0, 0, 0, 0, 0,\n",
       "       0, 0, 0, 0, 0, 0, 0, 0, 0, 0, 0, 0, 0, 0, 0, 0, 0, 0, 0, 0, 0, 0,\n",
       "       0, 0, 0, 0, 0, 0, 0, 0, 0, 0, 0, 0, 0, 0, 0, 0, 0, 0, 0, 0, 0, 0,\n",
       "       0, 0, 0, 0, 0, 0, 0, 0, 0, 0, 0, 0, 0, 0, 0, 0, 0, 0, 0, 0, 0, 0,\n",
       "       0, 0, 0, 0, 0, 0, 0, 0, 0, 0, 0, 0, 0, 0, 0, 0, 0, 0, 0, 0, 0, 0,\n",
       "       0, 0, 0, 0, 0, 0, 0, 0, 0, 0, 0, 1, 0, 1, 0, 1, 0, 1, 0, 1, 0, 1,\n",
       "       0, 1, 0, 1, 0, 1, 0, 1, 0, 1, 0, 1, 0, 1, 0, 1, 0, 1, 0, 1, 0, 1,\n",
       "       0, 1, 0, 1, 0, 1, 0, 1, 0, 1, 0, 1, 0, 1, 0, 1, 1, 1, 0, 1, 1, 1,\n",
       "       1, 1, 0, 0, 0, 0, 0, 1, 0, 0, 0, 0, 0, 0, 0, 0, 0, 0, 0, 0, 0, 0,\n",
       "       0, 0, 0, 0, 0, 0, 0, 0, 0, 0, 0, 0, 0, 0, 0, 0, 0, 0, 0, 0, 0, 0,\n",
       "       0, 0, 0, 0, 0, 0, 0, 0, 0, 0, 0, 0, 0, 0, 0, 0, 0, 0, 0, 0, 0, 0,\n",
       "       0, 0, 0, 0, 0, 0, 0, 0, 0, 0, 0, 0, 0, 0, 0, 0, 0, 0, 0, 0, 0, 0,\n",
       "       0, 0, 0, 0, 0, 0, 0, 0, 0, 0, 0, 0, 0, 0, 0, 0, 0, 0, 0, 0, 0, 0,\n",
       "       0, 0, 0, 0, 0, 0, 0, 0, 0, 0, 0, 0, 0, 0, 0, 0, 0, 0, 0, 0, 0, 0,\n",
       "       0, 0, 0, 0, 0, 0, 0, 0, 0, 0, 0, 0, 0, 0, 0, 0, 0, 0, 0, 0, 0, 0,\n",
       "       0, 0, 0, 0, 0, 0, 0, 0, 0, 0, 0, 0, 0, 0, 0, 0, 0, 0, 0, 0, 0, 0,\n",
       "       0, 0, 0, 0, 0, 0, 0, 0, 0, 0, 0, 0, 0, 0, 0, 0, 0, 0, 0, 0, 0, 0,\n",
       "       0, 0, 0, 0, 0, 0, 0, 0, 0, 0, 0, 0, 0, 0, 0, 0, 0, 0, 0, 0, 0, 0,\n",
       "       0, 0, 0, 0, 0, 0, 0, 0, 0, 0, 0, 0, 0, 0, 0, 0, 0, 0, 0, 0, 0, 0,\n",
       "       0, 0, 0, 0, 0, 0, 0, 0, 0, 0, 0, 0, 1, 1, 1, 0, 0, 0, 1, 0])"
      ]
     },
     "execution_count": 77,
     "metadata": {},
     "output_type": "execute_result"
    }
   ],
   "source": [
    "pred"
   ]
  },
  {
   "cell_type": "code",
   "execution_count": 79,
   "metadata": {},
   "outputs": [],
   "source": [
    "test_data['is_interest'] = pred"
   ]
  },
  {
   "cell_type": "code",
   "execution_count": 81,
   "metadata": {},
   "outputs": [],
   "source": [
    "os.makedirs('Prediction')"
   ]
  },
  {
   "cell_type": "code",
   "execution_count": 82,
   "metadata": {},
   "outputs": [],
   "source": [
    "test_data.to_csv('Prediction/lr_prediction.csv')"
   ]
  },
  {
   "cell_type": "code",
   "execution_count": 83,
   "metadata": {},
   "outputs": [
    {
     "data": {
      "text/html": [
       "<div>\n",
       "<style scoped>\n",
       "    .dataframe tbody tr th:only-of-type {\n",
       "        vertical-align: middle;\n",
       "    }\n",
       "\n",
       "    .dataframe tbody tr th {\n",
       "        vertical-align: top;\n",
       "    }\n",
       "\n",
       "    .dataframe thead th {\n",
       "        text-align: right;\n",
       "    }\n",
       "</style>\n",
       "<table border=\"1\" class=\"dataframe\">\n",
       "  <thead>\n",
       "    <tr style=\"text-align: right;\">\n",
       "      <th></th>\n",
       "      <th>Unnamed: 0</th>\n",
       "      <th>path</th>\n",
       "      <th>page</th>\n",
       "      <th>is_scan</th>\n",
       "      <th>text</th>\n",
       "      <th>is_interest</th>\n",
       "    </tr>\n",
       "  </thead>\n",
       "  <tbody>\n",
       "    <tr>\n",
       "      <th>0</th>\n",
       "      <td>0</td>\n",
       "      <td>C:\\Users\\jeanm\\Downloads\\DOC DATA CHALLENGE\\DO...</td>\n",
       "      <td>0</td>\n",
       "      <td>False</td>\n",
       "      <td>item revis equip instrument tag number manufac...</td>\n",
       "      <td>1</td>\n",
       "    </tr>\n",
       "    <tr>\n",
       "      <th>1</th>\n",
       "      <td>1</td>\n",
       "      <td>C:\\Users\\jeanm\\Downloads\\DOC DATA CHALLENGE\\DO...</td>\n",
       "      <td>1</td>\n",
       "      <td>False</td>\n",
       "      <td>item revis equip instrument tag number manufac...</td>\n",
       "      <td>0</td>\n",
       "    </tr>\n",
       "    <tr>\n",
       "      <th>2</th>\n",
       "      <td>2</td>\n",
       "      <td>C:\\Users\\jeanm\\Downloads\\DOC DATA CHALLENGE\\DO...</td>\n",
       "      <td>2</td>\n",
       "      <td>False</td>\n",
       "      <td>item revis equip instrument tag number manufac...</td>\n",
       "      <td>1</td>\n",
       "    </tr>\n",
       "    <tr>\n",
       "      <th>3</th>\n",
       "      <td>3</td>\n",
       "      <td>C:\\Users\\jeanm\\Downloads\\DOC DATA CHALLENGE\\DO...</td>\n",
       "      <td>3</td>\n",
       "      <td>False</td>\n",
       "      <td>itwm revis equip instrument tag number manufac...</td>\n",
       "      <td>1</td>\n",
       "    </tr>\n",
       "    <tr>\n",
       "      <th>4</th>\n",
       "      <td>4</td>\n",
       "      <td>C:\\Users\\jeanm\\Downloads\\DOC DATA CHALLENGE\\DO...</td>\n",
       "      <td>4</td>\n",
       "      <td>False</td>\n",
       "      <td>itwm revis equip instrument tag number manufac...</td>\n",
       "      <td>1</td>\n",
       "    </tr>\n",
       "    <tr>\n",
       "      <th>...</th>\n",
       "      <td>...</td>\n",
       "      <td>...</td>\n",
       "      <td>...</td>\n",
       "      <td>...</td>\n",
       "      <td>...</td>\n",
       "      <td>...</td>\n",
       "    </tr>\n",
       "    <tr>\n",
       "      <th>719</th>\n",
       "      <td>719</td>\n",
       "      <td>C:\\Users\\jeanm\\Downloads\\DOC DATA CHALLENGE\\DO...</td>\n",
       "      <td>5</td>\n",
       "      <td>True</td>\n",
       "      <td>refno partno sapno spare part list typ rvp4 pr...</td>\n",
       "      <td>0</td>\n",
       "    </tr>\n",
       "    <tr>\n",
       "      <th>720</th>\n",
       "      <td>720</td>\n",
       "      <td>C:\\Users\\jeanm\\Downloads\\DOC DATA CHALLENGE\\DO...</td>\n",
       "      <td>0</td>\n",
       "      <td>False</td>\n",
       "      <td>d103247xus2 instal guid englishmarch 2015 type...</td>\n",
       "      <td>0</td>\n",
       "    </tr>\n",
       "    <tr>\n",
       "      <th>721</th>\n",
       "      <td>721</td>\n",
       "      <td>C:\\Users\\jeanm\\Downloads\\DOC DATA CHALLENGE\\DO...</td>\n",
       "      <td>1</td>\n",
       "      <td>False</td>\n",
       "      <td>2 type mr108 accumul prevent suchinjuri damag ...</td>\n",
       "      <td>0</td>\n",
       "    </tr>\n",
       "    <tr>\n",
       "      <th>722</th>\n",
       "      <td>722</td>\n",
       "      <td>C:\\Users\\jeanm\\Downloads\\DOC DATA CHALLENGE\\DO...</td>\n",
       "      <td>2</td>\n",
       "      <td>False</td>\n",
       "      <td>3 type mr108 part list keydescript 1valv bodi ...</td>\n",
       "      <td>1</td>\n",
       "    </tr>\n",
       "    <tr>\n",
       "      <th>723</th>\n",
       "      <td>723</td>\n",
       "      <td>C:\\Users\\jeanm\\Downloads\\DOC DATA CHALLENGE\\DO...</td>\n",
       "      <td>3</td>\n",
       "      <td>False</td>\n",
       "      <td>type mr108 emerson process manag regul technol...</td>\n",
       "      <td>0</td>\n",
       "    </tr>\n",
       "  </tbody>\n",
       "</table>\n",
       "<p>724 rows × 6 columns</p>\n",
       "</div>"
      ],
      "text/plain": [
       "     Unnamed: 0                                               path  page  \\\n",
       "0             0  C:\\Users\\jeanm\\Downloads\\DOC DATA CHALLENGE\\DO...     0   \n",
       "1             1  C:\\Users\\jeanm\\Downloads\\DOC DATA CHALLENGE\\DO...     1   \n",
       "2             2  C:\\Users\\jeanm\\Downloads\\DOC DATA CHALLENGE\\DO...     2   \n",
       "3             3  C:\\Users\\jeanm\\Downloads\\DOC DATA CHALLENGE\\DO...     3   \n",
       "4             4  C:\\Users\\jeanm\\Downloads\\DOC DATA CHALLENGE\\DO...     4   \n",
       "..          ...                                                ...   ...   \n",
       "719         719  C:\\Users\\jeanm\\Downloads\\DOC DATA CHALLENGE\\DO...     5   \n",
       "720         720  C:\\Users\\jeanm\\Downloads\\DOC DATA CHALLENGE\\DO...     0   \n",
       "721         721  C:\\Users\\jeanm\\Downloads\\DOC DATA CHALLENGE\\DO...     1   \n",
       "722         722  C:\\Users\\jeanm\\Downloads\\DOC DATA CHALLENGE\\DO...     2   \n",
       "723         723  C:\\Users\\jeanm\\Downloads\\DOC DATA CHALLENGE\\DO...     3   \n",
       "\n",
       "     is_scan                                               text  is_interest  \n",
       "0      False  item revis equip instrument tag number manufac...            1  \n",
       "1      False  item revis equip instrument tag number manufac...            0  \n",
       "2      False  item revis equip instrument tag number manufac...            1  \n",
       "3      False  itwm revis equip instrument tag number manufac...            1  \n",
       "4      False  itwm revis equip instrument tag number manufac...            1  \n",
       "..       ...                                                ...          ...  \n",
       "719     True  refno partno sapno spare part list typ rvp4 pr...            0  \n",
       "720    False  d103247xus2 instal guid englishmarch 2015 type...            0  \n",
       "721    False  2 type mr108 accumul prevent suchinjuri damag ...            0  \n",
       "722    False  3 type mr108 part list keydescript 1valv bodi ...            1  \n",
       "723    False  type mr108 emerson process manag regul technol...            0  \n",
       "\n",
       "[724 rows x 6 columns]"
      ]
     },
     "execution_count": 83,
     "metadata": {},
     "output_type": "execute_result"
    }
   ],
   "source": [
    "test_data"
   ]
  },
  {
   "cell_type": "code",
   "execution_count": 84,
   "metadata": {},
   "outputs": [
    {
     "data": {
      "text/plain": [
       "'C:\\\\Users\\\\jeanm\\\\Downloads\\\\DOC DATA CHALLENGE\\\\DOC DATA CHELLENGE\\\\SPARE_DOCUMENT\\\\ASCEA-10-Q24048-0002_02 - CE WHP - FST- Instrument Air Package - Operational Spare Parts List For Instrument Air Compressor & Dryer Package (ASCEA-A-5451-5452).pdf'"
      ]
     },
     "execution_count": 84,
     "metadata": {},
     "output_type": "execute_result"
    }
   ],
   "source": [
    "test_data.path[0]"
   ]
  },
  {
   "cell_type": "code",
   "execution_count": 90,
   "metadata": {},
   "outputs": [],
   "source": [
    "path1 = r'C:\\Users\\jeanm\\Downloads\\DOC DATA CHALLENGE\\DOC DATA CHELLENGE\\SPARE_DOCUMENT'\n",
    "path2 = r'C:\\Users\\s.doudou\\Documents\\GEEK\\DATA\\SPARE_DOCUMENT'\n",
    "test_data['path'] =test_data.path.apply(lambda x: x.replace(path1, path2))"
   ]
  },
  {
   "cell_type": "code",
   "execution_count": 91,
   "metadata": {},
   "outputs": [
    {
     "data": {
      "text/html": [
       "<div>\n",
       "<style scoped>\n",
       "    .dataframe tbody tr th:only-of-type {\n",
       "        vertical-align: middle;\n",
       "    }\n",
       "\n",
       "    .dataframe tbody tr th {\n",
       "        vertical-align: top;\n",
       "    }\n",
       "\n",
       "    .dataframe thead th {\n",
       "        text-align: right;\n",
       "    }\n",
       "</style>\n",
       "<table border=\"1\" class=\"dataframe\">\n",
       "  <thead>\n",
       "    <tr style=\"text-align: right;\">\n",
       "      <th></th>\n",
       "      <th>Unnamed: 0</th>\n",
       "      <th>path</th>\n",
       "      <th>page</th>\n",
       "      <th>is_scan</th>\n",
       "      <th>text</th>\n",
       "      <th>is_interest</th>\n",
       "    </tr>\n",
       "  </thead>\n",
       "  <tbody>\n",
       "    <tr>\n",
       "      <th>0</th>\n",
       "      <td>0</td>\n",
       "      <td>C:\\Users\\s.doudou\\Documents\\GEEK\\DATA\\SPARE_DO...</td>\n",
       "      <td>0</td>\n",
       "      <td>False</td>\n",
       "      <td>item revis equip instrument tag number manufac...</td>\n",
       "      <td>1</td>\n",
       "    </tr>\n",
       "    <tr>\n",
       "      <th>1</th>\n",
       "      <td>1</td>\n",
       "      <td>C:\\Users\\s.doudou\\Documents\\GEEK\\DATA\\SPARE_DO...</td>\n",
       "      <td>1</td>\n",
       "      <td>False</td>\n",
       "      <td>item revis equip instrument tag number manufac...</td>\n",
       "      <td>0</td>\n",
       "    </tr>\n",
       "    <tr>\n",
       "      <th>2</th>\n",
       "      <td>2</td>\n",
       "      <td>C:\\Users\\s.doudou\\Documents\\GEEK\\DATA\\SPARE_DO...</td>\n",
       "      <td>2</td>\n",
       "      <td>False</td>\n",
       "      <td>item revis equip instrument tag number manufac...</td>\n",
       "      <td>1</td>\n",
       "    </tr>\n",
       "    <tr>\n",
       "      <th>3</th>\n",
       "      <td>3</td>\n",
       "      <td>C:\\Users\\s.doudou\\Documents\\GEEK\\DATA\\SPARE_DO...</td>\n",
       "      <td>3</td>\n",
       "      <td>False</td>\n",
       "      <td>itwm revis equip instrument tag number manufac...</td>\n",
       "      <td>1</td>\n",
       "    </tr>\n",
       "    <tr>\n",
       "      <th>4</th>\n",
       "      <td>4</td>\n",
       "      <td>C:\\Users\\s.doudou\\Documents\\GEEK\\DATA\\SPARE_DO...</td>\n",
       "      <td>4</td>\n",
       "      <td>False</td>\n",
       "      <td>itwm revis equip instrument tag number manufac...</td>\n",
       "      <td>1</td>\n",
       "    </tr>\n",
       "    <tr>\n",
       "      <th>...</th>\n",
       "      <td>...</td>\n",
       "      <td>...</td>\n",
       "      <td>...</td>\n",
       "      <td>...</td>\n",
       "      <td>...</td>\n",
       "      <td>...</td>\n",
       "    </tr>\n",
       "    <tr>\n",
       "      <th>719</th>\n",
       "      <td>719</td>\n",
       "      <td>C:\\Users\\s.doudou\\Documents\\GEEK\\DATA\\SPARE_DO...</td>\n",
       "      <td>5</td>\n",
       "      <td>True</td>\n",
       "      <td>refno partno sapno spare part list typ rvp4 pr...</td>\n",
       "      <td>0</td>\n",
       "    </tr>\n",
       "    <tr>\n",
       "      <th>720</th>\n",
       "      <td>720</td>\n",
       "      <td>C:\\Users\\s.doudou\\Documents\\GEEK\\DATA\\SPARE_DO...</td>\n",
       "      <td>0</td>\n",
       "      <td>False</td>\n",
       "      <td>d103247xus2 instal guid englishmarch 2015 type...</td>\n",
       "      <td>0</td>\n",
       "    </tr>\n",
       "    <tr>\n",
       "      <th>721</th>\n",
       "      <td>721</td>\n",
       "      <td>C:\\Users\\s.doudou\\Documents\\GEEK\\DATA\\SPARE_DO...</td>\n",
       "      <td>1</td>\n",
       "      <td>False</td>\n",
       "      <td>2 type mr108 accumul prevent suchinjuri damag ...</td>\n",
       "      <td>0</td>\n",
       "    </tr>\n",
       "    <tr>\n",
       "      <th>722</th>\n",
       "      <td>722</td>\n",
       "      <td>C:\\Users\\s.doudou\\Documents\\GEEK\\DATA\\SPARE_DO...</td>\n",
       "      <td>2</td>\n",
       "      <td>False</td>\n",
       "      <td>3 type mr108 part list keydescript 1valv bodi ...</td>\n",
       "      <td>1</td>\n",
       "    </tr>\n",
       "    <tr>\n",
       "      <th>723</th>\n",
       "      <td>723</td>\n",
       "      <td>C:\\Users\\s.doudou\\Documents\\GEEK\\DATA\\SPARE_DO...</td>\n",
       "      <td>3</td>\n",
       "      <td>False</td>\n",
       "      <td>type mr108 emerson process manag regul technol...</td>\n",
       "      <td>0</td>\n",
       "    </tr>\n",
       "  </tbody>\n",
       "</table>\n",
       "<p>724 rows × 6 columns</p>\n",
       "</div>"
      ],
      "text/plain": [
       "     Unnamed: 0                                               path  page  \\\n",
       "0             0  C:\\Users\\s.doudou\\Documents\\GEEK\\DATA\\SPARE_DO...     0   \n",
       "1             1  C:\\Users\\s.doudou\\Documents\\GEEK\\DATA\\SPARE_DO...     1   \n",
       "2             2  C:\\Users\\s.doudou\\Documents\\GEEK\\DATA\\SPARE_DO...     2   \n",
       "3             3  C:\\Users\\s.doudou\\Documents\\GEEK\\DATA\\SPARE_DO...     3   \n",
       "4             4  C:\\Users\\s.doudou\\Documents\\GEEK\\DATA\\SPARE_DO...     4   \n",
       "..          ...                                                ...   ...   \n",
       "719         719  C:\\Users\\s.doudou\\Documents\\GEEK\\DATA\\SPARE_DO...     5   \n",
       "720         720  C:\\Users\\s.doudou\\Documents\\GEEK\\DATA\\SPARE_DO...     0   \n",
       "721         721  C:\\Users\\s.doudou\\Documents\\GEEK\\DATA\\SPARE_DO...     1   \n",
       "722         722  C:\\Users\\s.doudou\\Documents\\GEEK\\DATA\\SPARE_DO...     2   \n",
       "723         723  C:\\Users\\s.doudou\\Documents\\GEEK\\DATA\\SPARE_DO...     3   \n",
       "\n",
       "     is_scan                                               text  is_interest  \n",
       "0      False  item revis equip instrument tag number manufac...            1  \n",
       "1      False  item revis equip instrument tag number manufac...            0  \n",
       "2      False  item revis equip instrument tag number manufac...            1  \n",
       "3      False  itwm revis equip instrument tag number manufac...            1  \n",
       "4      False  itwm revis equip instrument tag number manufac...            1  \n",
       "..       ...                                                ...          ...  \n",
       "719     True  refno partno sapno spare part list typ rvp4 pr...            0  \n",
       "720    False  d103247xus2 instal guid englishmarch 2015 type...            0  \n",
       "721    False  2 type mr108 accumul prevent suchinjuri damag ...            0  \n",
       "722    False  3 type mr108 part list keydescript 1valv bodi ...            1  \n",
       "723    False  type mr108 emerson process manag regul technol...            0  \n",
       "\n",
       "[724 rows x 6 columns]"
      ]
     },
     "execution_count": 91,
     "metadata": {},
     "output_type": "execute_result"
    }
   ],
   "source": [
    "test_data"
   ]
  },
  {
   "cell_type": "markdown",
   "metadata": {},
   "source": [
    "## document scannée et d'interer"
   ]
  },
  {
   "cell_type": "code",
   "execution_count": 101,
   "metadata": {},
   "outputs": [
    {
     "data": {
      "text/html": [
       "<div>\n",
       "<style scoped>\n",
       "    .dataframe tbody tr th:only-of-type {\n",
       "        vertical-align: middle;\n",
       "    }\n",
       "\n",
       "    .dataframe tbody tr th {\n",
       "        vertical-align: top;\n",
       "    }\n",
       "\n",
       "    .dataframe thead th {\n",
       "        text-align: right;\n",
       "    }\n",
       "</style>\n",
       "<table border=\"1\" class=\"dataframe\">\n",
       "  <thead>\n",
       "    <tr style=\"text-align: right;\">\n",
       "      <th></th>\n",
       "      <th>Unnamed: 0</th>\n",
       "      <th>path</th>\n",
       "      <th>page</th>\n",
       "      <th>is_scan</th>\n",
       "      <th>text</th>\n",
       "      <th>is_interest</th>\n",
       "    </tr>\n",
       "  </thead>\n",
       "  <tbody>\n",
       "    <tr>\n",
       "      <th>43</th>\n",
       "      <td>43</td>\n",
       "      <td>C:\\Users\\s.doudou\\Documents\\GEEK\\DATA\\SPARE_DO...</td>\n",
       "      <td>2</td>\n",
       "      <td>True</td>\n",
       "      <td>typic eex eex motor 1 2 3 4 5 6 7 8 9 10 11 12...</td>\n",
       "      <td>1</td>\n",
       "    </tr>\n",
       "    <tr>\n",
       "      <th>63</th>\n",
       "      <td>63</td>\n",
       "      <td>C:\\Users\\s.doudou\\Documents\\GEEK\\DATA\\SPARE_DO...</td>\n",
       "      <td>1</td>\n",
       "      <td>True</td>\n",
       "      <td>item qtyus ontag no112fansb5501111122dos pumps...</td>\n",
       "      <td>1</td>\n",
       "    </tr>\n",
       "    <tr>\n",
       "      <th>72</th>\n",
       "      <td>72</td>\n",
       "      <td>C:\\Users\\s.doudou\\Documents\\GEEK\\DATA\\SPARE_DO...</td>\n",
       "      <td>1</td>\n",
       "      <td>True</td>\n",
       "      <td>iproject document no2 year oper sparesnsv0705g...</td>\n",
       "      <td>1</td>\n",
       "    </tr>\n",
       "    <tr>\n",
       "      <th>120</th>\n",
       "      <td>120</td>\n",
       "      <td>C:\\Users\\s.doudou\\Documents\\GEEK\\DATA\\SPARE_DO...</td>\n",
       "      <td>0</td>\n",
       "      <td>True</td>\n",
       "      <td>2 32 item w m3 7000 4200 4000 112 7000 4200 40...</td>\n",
       "      <td>1</td>\n",
       "    </tr>\n",
       "    <tr>\n",
       "      <th>121</th>\n",
       "      <td>121</td>\n",
       "      <td>C:\\Users\\s.doudou\\Documents\\GEEK\\DATA\\SPARE_DO...</td>\n",
       "      <td>1</td>\n",
       "      <td>True</td>\n",
       "      <td>3 32 01a 25 item po qti 001 1 pressur nozzl au...</td>\n",
       "      <td>1</td>\n",
       "    </tr>\n",
       "    <tr>\n",
       "      <th>122</th>\n",
       "      <td>122</td>\n",
       "      <td>C:\\Users\\s.doudou\\Documents\\GEEK\\DATA\\SPARE_DO...</td>\n",
       "      <td>2</td>\n",
       "      <td>True</td>\n",
       "      <td>4 32 01b 25 item po qti 001 1 pack list eng pk...</td>\n",
       "      <td>1</td>\n",
       "    </tr>\n",
       "    <tr>\n",
       "      <th>123</th>\n",
       "      <td>123</td>\n",
       "      <td>C:\\Users\\s.doudou\\Documents\\GEEK\\DATA\\SPARE_DO...</td>\n",
       "      <td>3</td>\n",
       "      <td>True</td>\n",
       "      <td>5 32 02ab 25 item po qti 001 1 002 1 003 4 004...</td>\n",
       "      <td>1</td>\n",
       "    </tr>\n",
       "    <tr>\n",
       "      <th>124</th>\n",
       "      <td>124</td>\n",
       "      <td>C:\\Users\\s.doudou\\Documents\\GEEK\\DATA\\SPARE_DO...</td>\n",
       "      <td>4</td>\n",
       "      <td>True</td>\n",
       "      <td>6 32 03a 25 item po qti 001 02 1 wooden box pn...</td>\n",
       "      <td>1</td>\n",
       "    </tr>\n",
       "    <tr>\n",
       "      <th>125</th>\n",
       "      <td>125</td>\n",
       "      <td>C:\\Users\\s.doudou\\Documents\\GEEK\\DATA\\SPARE_DO...</td>\n",
       "      <td>5</td>\n",
       "      <td>True</td>\n",
       "      <td>7 32 03b 25 item po qti 001 02 1 wooden box pn...</td>\n",
       "      <td>1</td>\n",
       "    </tr>\n",
       "    <tr>\n",
       "      <th>126</th>\n",
       "      <td>126</td>\n",
       "      <td>C:\\Users\\s.doudou\\Documents\\GEEK\\DATA\\SPARE_DO...</td>\n",
       "      <td>6</td>\n",
       "      <td>True</td>\n",
       "      <td>8 32 04a 25 item po qti 001 05 1 wooden box pn...</td>\n",
       "      <td>1</td>\n",
       "    </tr>\n",
       "    <tr>\n",
       "      <th>127</th>\n",
       "      <td>127</td>\n",
       "      <td>C:\\Users\\s.doudou\\Documents\\GEEK\\DATA\\SPARE_DO...</td>\n",
       "      <td>7</td>\n",
       "      <td>True</td>\n",
       "      <td>9 32 04b 25 item po qti 001 06 1 wooden box pn...</td>\n",
       "      <td>1</td>\n",
       "    </tr>\n",
       "    <tr>\n",
       "      <th>128</th>\n",
       "      <td>128</td>\n",
       "      <td>C:\\Users\\s.doudou\\Documents\\GEEK\\DATA\\SPARE_DO...</td>\n",
       "      <td>8</td>\n",
       "      <td>True</td>\n",
       "      <td>10 32 05a 25 item po qti 001 05 1 wooden box p...</td>\n",
       "      <td>1</td>\n",
       "    </tr>\n",
       "    <tr>\n",
       "      <th>129</th>\n",
       "      <td>129</td>\n",
       "      <td>C:\\Users\\s.doudou\\Documents\\GEEK\\DATA\\SPARE_DO...</td>\n",
       "      <td>9</td>\n",
       "      <td>True</td>\n",
       "      <td>11 32 05b 25 item po qti 001 06 1 wooden box p...</td>\n",
       "      <td>1</td>\n",
       "    </tr>\n",
       "    <tr>\n",
       "      <th>130</th>\n",
       "      <td>130</td>\n",
       "      <td>C:\\Users\\s.doudou\\Documents\\GEEK\\DATA\\SPARE_DO...</td>\n",
       "      <td>10</td>\n",
       "      <td>True</td>\n",
       "      <td>12 32 06ab 25 item po qti 001 4059 4 002 5061 ...</td>\n",
       "      <td>1</td>\n",
       "    </tr>\n",
       "    <tr>\n",
       "      <th>131</th>\n",
       "      <td>131</td>\n",
       "      <td>C:\\Users\\s.doudou\\Documents\\GEEK\\DATA\\SPARE_DO...</td>\n",
       "      <td>11</td>\n",
       "      <td>True</td>\n",
       "      <td>13 32 06ab 25 item po qti 036 4061 1 037 4062 ...</td>\n",
       "      <td>1</td>\n",
       "    </tr>\n",
       "    <tr>\n",
       "      <th>132</th>\n",
       "      <td>132</td>\n",
       "      <td>C:\\Users\\s.doudou\\Documents\\GEEK\\DATA\\SPARE_DO...</td>\n",
       "      <td>12</td>\n",
       "      <td>True</td>\n",
       "      <td>14 32 06ab 25 item po qti 070 4050 8 071 5044 ...</td>\n",
       "      <td>1</td>\n",
       "    </tr>\n",
       "    <tr>\n",
       "      <th>133</th>\n",
       "      <td>133</td>\n",
       "      <td>C:\\Users\\s.doudou\\Documents\\GEEK\\DATA\\SPARE_DO...</td>\n",
       "      <td>13</td>\n",
       "      <td>True</td>\n",
       "      <td>15 32 06ab 25 item po qti 101 1 102 1 103 1 10...</td>\n",
       "      <td>1</td>\n",
       "    </tr>\n",
       "    <tr>\n",
       "      <th>134</th>\n",
       "      <td>134</td>\n",
       "      <td>C:\\Users\\s.doudou\\Documents\\GEEK\\DATA\\SPARE_DO...</td>\n",
       "      <td>14</td>\n",
       "      <td>True</td>\n",
       "      <td>16 32 07a 25 item po qti 001 07 1 pack list en...</td>\n",
       "      <td>1</td>\n",
       "    </tr>\n",
       "    <tr>\n",
       "      <th>135</th>\n",
       "      <td>135</td>\n",
       "      <td>C:\\Users\\s.doudou\\Documents\\GEEK\\DATA\\SPARE_DO...</td>\n",
       "      <td>15</td>\n",
       "      <td>True</td>\n",
       "      <td>17 32 07b 25 item po qti 001 07 1 pack list en...</td>\n",
       "      <td>1</td>\n",
       "    </tr>\n",
       "    <tr>\n",
       "      <th>136</th>\n",
       "      <td>136</td>\n",
       "      <td>C:\\Users\\s.doudou\\Documents\\GEEK\\DATA\\SPARE_DO...</td>\n",
       "      <td>16</td>\n",
       "      <td>True</td>\n",
       "      <td>18 32 08a 25 item po qti 001 03 1 pack list en...</td>\n",
       "      <td>1</td>\n",
       "    </tr>\n",
       "    <tr>\n",
       "      <th>137</th>\n",
       "      <td>137</td>\n",
       "      <td>C:\\Users\\s.doudou\\Documents\\GEEK\\DATA\\SPARE_DO...</td>\n",
       "      <td>17</td>\n",
       "      <td>True</td>\n",
       "      <td>19 32 08 b 25 item po qti 001 03 1 pack list e...</td>\n",
       "      <td>1</td>\n",
       "    </tr>\n",
       "    <tr>\n",
       "      <th>138</th>\n",
       "      <td>138</td>\n",
       "      <td>C:\\Users\\s.doudou\\Documents\\GEEK\\DATA\\SPARE_DO...</td>\n",
       "      <td>18</td>\n",
       "      <td>True</td>\n",
       "      <td>20 32 09 25 item po qti 001 1 002 1 003 1 pack...</td>\n",
       "      <td>1</td>\n",
       "    </tr>\n",
       "    <tr>\n",
       "      <th>139</th>\n",
       "      <td>139</td>\n",
       "      <td>C:\\Users\\s.doudou\\Documents\\GEEK\\DATA\\SPARE_DO...</td>\n",
       "      <td>19</td>\n",
       "      <td>True</td>\n",
       "      <td>21 32 09b 25 item po qti 001 1 002 1 003 1 pac...</td>\n",
       "      <td>1</td>\n",
       "    </tr>\n",
       "    <tr>\n",
       "      <th>140</th>\n",
       "      <td>140</td>\n",
       "      <td>C:\\Users\\s.doudou\\Documents\\GEEK\\DATA\\SPARE_DO...</td>\n",
       "      <td>20</td>\n",
       "      <td>True</td>\n",
       "      <td>22 32 10 25 item po qti 001 1 002 1 pack list ...</td>\n",
       "      <td>1</td>\n",
       "    </tr>\n",
       "    <tr>\n",
       "      <th>141</th>\n",
       "      <td>141</td>\n",
       "      <td>C:\\Users\\s.doudou\\Documents\\GEEK\\DATA\\SPARE_DO...</td>\n",
       "      <td>21</td>\n",
       "      <td>True</td>\n",
       "      <td>23 32 11a 25 item po qti 001 1 002 1 003 1 004...</td>\n",
       "      <td>1</td>\n",
       "    </tr>\n",
       "    <tr>\n",
       "      <th>142</th>\n",
       "      <td>142</td>\n",
       "      <td>C:\\Users\\s.doudou\\Documents\\GEEK\\DATA\\SPARE_DO...</td>\n",
       "      <td>22</td>\n",
       "      <td>True</td>\n",
       "      <td>24 32 11a 25 item po qti 039 23 8 040 29 8 041...</td>\n",
       "      <td>1</td>\n",
       "    </tr>\n",
       "    <tr>\n",
       "      <th>143</th>\n",
       "      <td>143</td>\n",
       "      <td>C:\\Users\\s.doudou\\Documents\\GEEK\\DATA\\SPARE_DO...</td>\n",
       "      <td>23</td>\n",
       "      <td>True</td>\n",
       "      <td>25 32 11b 25 item po qti 001 1 002 1 003 1 004...</td>\n",
       "      <td>1</td>\n",
       "    </tr>\n",
       "    <tr>\n",
       "      <th>144</th>\n",
       "      <td>144</td>\n",
       "      <td>C:\\Users\\s.doudou\\Documents\\GEEK\\DATA\\SPARE_DO...</td>\n",
       "      <td>24</td>\n",
       "      <td>True</td>\n",
       "      <td>26 32 11b 25 item po qti 039 23 8 040 29 8 041...</td>\n",
       "      <td>1</td>\n",
       "    </tr>\n",
       "    <tr>\n",
       "      <th>145</th>\n",
       "      <td>145</td>\n",
       "      <td>C:\\Users\\s.doudou\\Documents\\GEEK\\DATA\\SPARE_DO...</td>\n",
       "      <td>25</td>\n",
       "      <td>True</td>\n",
       "      <td>27 32 12a 25 item po qti 001 1 002 1 003 1 004...</td>\n",
       "      <td>1</td>\n",
       "    </tr>\n",
       "    <tr>\n",
       "      <th>146</th>\n",
       "      <td>146</td>\n",
       "      <td>C:\\Users\\s.doudou\\Documents\\GEEK\\DATA\\SPARE_DO...</td>\n",
       "      <td>26</td>\n",
       "      <td>True</td>\n",
       "      <td>28 32 12b 25 item po qti 1 001 1 002 1 003 1 0...</td>\n",
       "      <td>1</td>\n",
       "    </tr>\n",
       "    <tr>\n",
       "      <th>147</th>\n",
       "      <td>147</td>\n",
       "      <td>C:\\Users\\s.doudou\\Documents\\GEEK\\DATA\\SPARE_DO...</td>\n",
       "      <td>27</td>\n",
       "      <td>True</td>\n",
       "      <td>29 32 13 25 item po qti 001 1 pack list eng pk...</td>\n",
       "      <td>1</td>\n",
       "    </tr>\n",
       "    <tr>\n",
       "      <th>148</th>\n",
       "      <td>148</td>\n",
       "      <td>C:\\Users\\s.doudou\\Documents\\GEEK\\DATA\\SPARE_DO...</td>\n",
       "      <td>28</td>\n",
       "      <td>True</td>\n",
       "      <td>30 32 13 b 25 item po qti 001 1 pack list eng ...</td>\n",
       "      <td>1</td>\n",
       "    </tr>\n",
       "    <tr>\n",
       "      <th>149</th>\n",
       "      <td>149</td>\n",
       "      <td>C:\\Users\\s.doudou\\Documents\\GEEK\\DATA\\SPARE_DO...</td>\n",
       "      <td>29</td>\n",
       "      <td>True</td>\n",
       "      <td>31 32 14 25 item po qti 001 2 002 2 003 16 004...</td>\n",
       "      <td>1</td>\n",
       "    </tr>\n",
       "    <tr>\n",
       "      <th>150</th>\n",
       "      <td>150</td>\n",
       "      <td>C:\\Users\\s.doudou\\Documents\\GEEK\\DATA\\SPARE_DO...</td>\n",
       "      <td>30</td>\n",
       "      <td>True</td>\n",
       "      <td>32 32 15 25 item po qti 001 1 002 09 4 003 10 ...</td>\n",
       "      <td>1</td>\n",
       "    </tr>\n",
       "    <tr>\n",
       "      <th>156</th>\n",
       "      <td>156</td>\n",
       "      <td>C:\\Users\\s.doudou\\Documents\\GEEK\\DATA\\SPARE_DO...</td>\n",
       "      <td>5</td>\n",
       "      <td>True</td>\n",
       "      <td>neuman esser gmbh co kg page 1 7 descript part...</td>\n",
       "      <td>1</td>\n",
       "    </tr>\n",
       "    <tr>\n",
       "      <th>157</th>\n",
       "      <td>157</td>\n",
       "      <td>C:\\Users\\s.doudou\\Documents\\GEEK\\DATA\\SPARE_DO...</td>\n",
       "      <td>6</td>\n",
       "      <td>True</td>\n",
       "      <td>neuman esser gmbh co kg page 2 7 descript part...</td>\n",
       "      <td>1</td>\n",
       "    </tr>\n",
       "    <tr>\n",
       "      <th>158</th>\n",
       "      <td>158</td>\n",
       "      <td>C:\\Users\\s.doudou\\Documents\\GEEK\\DATA\\SPARE_DO...</td>\n",
       "      <td>7</td>\n",
       "      <td>True</td>\n",
       "      <td>neuman esser gmbh co kg page 3 7 descript part...</td>\n",
       "      <td>1</td>\n",
       "    </tr>\n",
       "    <tr>\n",
       "      <th>159</th>\n",
       "      <td>159</td>\n",
       "      <td>C:\\Users\\s.doudou\\Documents\\GEEK\\DATA\\SPARE_DO...</td>\n",
       "      <td>8</td>\n",
       "      <td>True</td>\n",
       "      <td>neuman esser gmbh co kg page 4 7 descript part...</td>\n",
       "      <td>1</td>\n",
       "    </tr>\n",
       "    <tr>\n",
       "      <th>160</th>\n",
       "      <td>160</td>\n",
       "      <td>C:\\Users\\s.doudou\\Documents\\GEEK\\DATA\\SPARE_DO...</td>\n",
       "      <td>9</td>\n",
       "      <td>True</td>\n",
       "      <td>neuman esser gmbh co kg page 5 7 descript part...</td>\n",
       "      <td>1</td>\n",
       "    </tr>\n",
       "    <tr>\n",
       "      <th>161</th>\n",
       "      <td>161</td>\n",
       "      <td>C:\\Users\\s.doudou\\Documents\\GEEK\\DATA\\SPARE_DO...</td>\n",
       "      <td>10</td>\n",
       "      <td>True</td>\n",
       "      <td>neuman esser gmbh co kg page 6 7 descript part...</td>\n",
       "      <td>1</td>\n",
       "    </tr>\n",
       "    <tr>\n",
       "      <th>162</th>\n",
       "      <td>162</td>\n",
       "      <td>C:\\Users\\s.doudou\\Documents\\GEEK\\DATA\\SPARE_DO...</td>\n",
       "      <td>11</td>\n",
       "      <td>True</td>\n",
       "      <td>neuman esser gmbh co kg page 7 7 descript part...</td>\n",
       "      <td>1</td>\n",
       "    </tr>\n",
       "    <tr>\n",
       "      <th>163</th>\n",
       "      <td>163</td>\n",
       "      <td>C:\\Users\\s.doudou\\Documents\\GEEK\\DATA\\SPARE_DO...</td>\n",
       "      <td>12</td>\n",
       "      <td>True</td>\n",
       "      <td>neuman esser gmbh co kg page 1 7 descript part...</td>\n",
       "      <td>1</td>\n",
       "    </tr>\n",
       "    <tr>\n",
       "      <th>164</th>\n",
       "      <td>164</td>\n",
       "      <td>C:\\Users\\s.doudou\\Documents\\GEEK\\DATA\\SPARE_DO...</td>\n",
       "      <td>13</td>\n",
       "      <td>True</td>\n",
       "      <td>neuman esser gmbh co kg page 2 7 descript part...</td>\n",
       "      <td>1</td>\n",
       "    </tr>\n",
       "    <tr>\n",
       "      <th>165</th>\n",
       "      <td>165</td>\n",
       "      <td>C:\\Users\\s.doudou\\Documents\\GEEK\\DATA\\SPARE_DO...</td>\n",
       "      <td>14</td>\n",
       "      <td>True</td>\n",
       "      <td>neuman esser gmbh co kg page 3 7 descript part...</td>\n",
       "      <td>1</td>\n",
       "    </tr>\n",
       "    <tr>\n",
       "      <th>166</th>\n",
       "      <td>166</td>\n",
       "      <td>C:\\Users\\s.doudou\\Documents\\GEEK\\DATA\\SPARE_DO...</td>\n",
       "      <td>15</td>\n",
       "      <td>True</td>\n",
       "      <td>neuman esser gmbh co kg page 4 7 descript part...</td>\n",
       "      <td>1</td>\n",
       "    </tr>\n",
       "    <tr>\n",
       "      <th>167</th>\n",
       "      <td>167</td>\n",
       "      <td>C:\\Users\\s.doudou\\Documents\\GEEK\\DATA\\SPARE_DO...</td>\n",
       "      <td>16</td>\n",
       "      <td>True</td>\n",
       "      <td>neuman esser gmbh co kg page 5 7 descript part...</td>\n",
       "      <td>1</td>\n",
       "    </tr>\n",
       "    <tr>\n",
       "      <th>168</th>\n",
       "      <td>168</td>\n",
       "      <td>C:\\Users\\s.doudou\\Documents\\GEEK\\DATA\\SPARE_DO...</td>\n",
       "      <td>17</td>\n",
       "      <td>True</td>\n",
       "      <td>neuman esser gmbh co kg page 6 7 descript part...</td>\n",
       "      <td>1</td>\n",
       "    </tr>\n",
       "    <tr>\n",
       "      <th>169</th>\n",
       "      <td>169</td>\n",
       "      <td>C:\\Users\\s.doudou\\Documents\\GEEK\\DATA\\SPARE_DO...</td>\n",
       "      <td>18</td>\n",
       "      <td>True</td>\n",
       "      <td>neuman esser gmbh co kg page 7 7 descript part...</td>\n",
       "      <td>1</td>\n",
       "    </tr>\n",
       "    <tr>\n",
       "      <th>716</th>\n",
       "      <td>716</td>\n",
       "      <td>C:\\Users\\s.doudou\\Documents\\GEEK\\DATA\\SPARE_DO...</td>\n",
       "      <td>2</td>\n",
       "      <td>True</td>\n",
       "      <td>refno partno sapno spare part list typ rvp4 pr...</td>\n",
       "      <td>1</td>\n",
       "    </tr>\n",
       "    <tr>\n",
       "      <th>717</th>\n",
       "      <td>717</td>\n",
       "      <td>C:\\Users\\s.doudou\\Documents\\GEEK\\DATA\\SPARE_DO...</td>\n",
       "      <td>3</td>\n",
       "      <td>True</td>\n",
       "      <td>refno partno sapno spare part list typ rvp4 pr...</td>\n",
       "      <td>1</td>\n",
       "    </tr>\n",
       "    <tr>\n",
       "      <th>718</th>\n",
       "      <td>718</td>\n",
       "      <td>C:\\Users\\s.doudou\\Documents\\GEEK\\DATA\\SPARE_DO...</td>\n",
       "      <td>4</td>\n",
       "      <td>True</td>\n",
       "      <td>refno partno sapno spare part list typ rvp4 pr...</td>\n",
       "      <td>1</td>\n",
       "    </tr>\n",
       "  </tbody>\n",
       "</table>\n",
       "</div>"
      ],
      "text/plain": [
       "     Unnamed: 0                                               path  page  \\\n",
       "43           43  C:\\Users\\s.doudou\\Documents\\GEEK\\DATA\\SPARE_DO...     2   \n",
       "63           63  C:\\Users\\s.doudou\\Documents\\GEEK\\DATA\\SPARE_DO...     1   \n",
       "72           72  C:\\Users\\s.doudou\\Documents\\GEEK\\DATA\\SPARE_DO...     1   \n",
       "120         120  C:\\Users\\s.doudou\\Documents\\GEEK\\DATA\\SPARE_DO...     0   \n",
       "121         121  C:\\Users\\s.doudou\\Documents\\GEEK\\DATA\\SPARE_DO...     1   \n",
       "122         122  C:\\Users\\s.doudou\\Documents\\GEEK\\DATA\\SPARE_DO...     2   \n",
       "123         123  C:\\Users\\s.doudou\\Documents\\GEEK\\DATA\\SPARE_DO...     3   \n",
       "124         124  C:\\Users\\s.doudou\\Documents\\GEEK\\DATA\\SPARE_DO...     4   \n",
       "125         125  C:\\Users\\s.doudou\\Documents\\GEEK\\DATA\\SPARE_DO...     5   \n",
       "126         126  C:\\Users\\s.doudou\\Documents\\GEEK\\DATA\\SPARE_DO...     6   \n",
       "127         127  C:\\Users\\s.doudou\\Documents\\GEEK\\DATA\\SPARE_DO...     7   \n",
       "128         128  C:\\Users\\s.doudou\\Documents\\GEEK\\DATA\\SPARE_DO...     8   \n",
       "129         129  C:\\Users\\s.doudou\\Documents\\GEEK\\DATA\\SPARE_DO...     9   \n",
       "130         130  C:\\Users\\s.doudou\\Documents\\GEEK\\DATA\\SPARE_DO...    10   \n",
       "131         131  C:\\Users\\s.doudou\\Documents\\GEEK\\DATA\\SPARE_DO...    11   \n",
       "132         132  C:\\Users\\s.doudou\\Documents\\GEEK\\DATA\\SPARE_DO...    12   \n",
       "133         133  C:\\Users\\s.doudou\\Documents\\GEEK\\DATA\\SPARE_DO...    13   \n",
       "134         134  C:\\Users\\s.doudou\\Documents\\GEEK\\DATA\\SPARE_DO...    14   \n",
       "135         135  C:\\Users\\s.doudou\\Documents\\GEEK\\DATA\\SPARE_DO...    15   \n",
       "136         136  C:\\Users\\s.doudou\\Documents\\GEEK\\DATA\\SPARE_DO...    16   \n",
       "137         137  C:\\Users\\s.doudou\\Documents\\GEEK\\DATA\\SPARE_DO...    17   \n",
       "138         138  C:\\Users\\s.doudou\\Documents\\GEEK\\DATA\\SPARE_DO...    18   \n",
       "139         139  C:\\Users\\s.doudou\\Documents\\GEEK\\DATA\\SPARE_DO...    19   \n",
       "140         140  C:\\Users\\s.doudou\\Documents\\GEEK\\DATA\\SPARE_DO...    20   \n",
       "141         141  C:\\Users\\s.doudou\\Documents\\GEEK\\DATA\\SPARE_DO...    21   \n",
       "142         142  C:\\Users\\s.doudou\\Documents\\GEEK\\DATA\\SPARE_DO...    22   \n",
       "143         143  C:\\Users\\s.doudou\\Documents\\GEEK\\DATA\\SPARE_DO...    23   \n",
       "144         144  C:\\Users\\s.doudou\\Documents\\GEEK\\DATA\\SPARE_DO...    24   \n",
       "145         145  C:\\Users\\s.doudou\\Documents\\GEEK\\DATA\\SPARE_DO...    25   \n",
       "146         146  C:\\Users\\s.doudou\\Documents\\GEEK\\DATA\\SPARE_DO...    26   \n",
       "147         147  C:\\Users\\s.doudou\\Documents\\GEEK\\DATA\\SPARE_DO...    27   \n",
       "148         148  C:\\Users\\s.doudou\\Documents\\GEEK\\DATA\\SPARE_DO...    28   \n",
       "149         149  C:\\Users\\s.doudou\\Documents\\GEEK\\DATA\\SPARE_DO...    29   \n",
       "150         150  C:\\Users\\s.doudou\\Documents\\GEEK\\DATA\\SPARE_DO...    30   \n",
       "156         156  C:\\Users\\s.doudou\\Documents\\GEEK\\DATA\\SPARE_DO...     5   \n",
       "157         157  C:\\Users\\s.doudou\\Documents\\GEEK\\DATA\\SPARE_DO...     6   \n",
       "158         158  C:\\Users\\s.doudou\\Documents\\GEEK\\DATA\\SPARE_DO...     7   \n",
       "159         159  C:\\Users\\s.doudou\\Documents\\GEEK\\DATA\\SPARE_DO...     8   \n",
       "160         160  C:\\Users\\s.doudou\\Documents\\GEEK\\DATA\\SPARE_DO...     9   \n",
       "161         161  C:\\Users\\s.doudou\\Documents\\GEEK\\DATA\\SPARE_DO...    10   \n",
       "162         162  C:\\Users\\s.doudou\\Documents\\GEEK\\DATA\\SPARE_DO...    11   \n",
       "163         163  C:\\Users\\s.doudou\\Documents\\GEEK\\DATA\\SPARE_DO...    12   \n",
       "164         164  C:\\Users\\s.doudou\\Documents\\GEEK\\DATA\\SPARE_DO...    13   \n",
       "165         165  C:\\Users\\s.doudou\\Documents\\GEEK\\DATA\\SPARE_DO...    14   \n",
       "166         166  C:\\Users\\s.doudou\\Documents\\GEEK\\DATA\\SPARE_DO...    15   \n",
       "167         167  C:\\Users\\s.doudou\\Documents\\GEEK\\DATA\\SPARE_DO...    16   \n",
       "168         168  C:\\Users\\s.doudou\\Documents\\GEEK\\DATA\\SPARE_DO...    17   \n",
       "169         169  C:\\Users\\s.doudou\\Documents\\GEEK\\DATA\\SPARE_DO...    18   \n",
       "716         716  C:\\Users\\s.doudou\\Documents\\GEEK\\DATA\\SPARE_DO...     2   \n",
       "717         717  C:\\Users\\s.doudou\\Documents\\GEEK\\DATA\\SPARE_DO...     3   \n",
       "718         718  C:\\Users\\s.doudou\\Documents\\GEEK\\DATA\\SPARE_DO...     4   \n",
       "\n",
       "     is_scan                                               text  is_interest  \n",
       "43      True  typic eex eex motor 1 2 3 4 5 6 7 8 9 10 11 12...            1  \n",
       "63      True  item qtyus ontag no112fansb5501111122dos pumps...            1  \n",
       "72      True  iproject document no2 year oper sparesnsv0705g...            1  \n",
       "120     True  2 32 item w m3 7000 4200 4000 112 7000 4200 40...            1  \n",
       "121     True  3 32 01a 25 item po qti 001 1 pressur nozzl au...            1  \n",
       "122     True  4 32 01b 25 item po qti 001 1 pack list eng pk...            1  \n",
       "123     True  5 32 02ab 25 item po qti 001 1 002 1 003 4 004...            1  \n",
       "124     True  6 32 03a 25 item po qti 001 02 1 wooden box pn...            1  \n",
       "125     True  7 32 03b 25 item po qti 001 02 1 wooden box pn...            1  \n",
       "126     True  8 32 04a 25 item po qti 001 05 1 wooden box pn...            1  \n",
       "127     True  9 32 04b 25 item po qti 001 06 1 wooden box pn...            1  \n",
       "128     True  10 32 05a 25 item po qti 001 05 1 wooden box p...            1  \n",
       "129     True  11 32 05b 25 item po qti 001 06 1 wooden box p...            1  \n",
       "130     True  12 32 06ab 25 item po qti 001 4059 4 002 5061 ...            1  \n",
       "131     True  13 32 06ab 25 item po qti 036 4061 1 037 4062 ...            1  \n",
       "132     True  14 32 06ab 25 item po qti 070 4050 8 071 5044 ...            1  \n",
       "133     True  15 32 06ab 25 item po qti 101 1 102 1 103 1 10...            1  \n",
       "134     True  16 32 07a 25 item po qti 001 07 1 pack list en...            1  \n",
       "135     True  17 32 07b 25 item po qti 001 07 1 pack list en...            1  \n",
       "136     True  18 32 08a 25 item po qti 001 03 1 pack list en...            1  \n",
       "137     True  19 32 08 b 25 item po qti 001 03 1 pack list e...            1  \n",
       "138     True  20 32 09 25 item po qti 001 1 002 1 003 1 pack...            1  \n",
       "139     True  21 32 09b 25 item po qti 001 1 002 1 003 1 pac...            1  \n",
       "140     True  22 32 10 25 item po qti 001 1 002 1 pack list ...            1  \n",
       "141     True  23 32 11a 25 item po qti 001 1 002 1 003 1 004...            1  \n",
       "142     True  24 32 11a 25 item po qti 039 23 8 040 29 8 041...            1  \n",
       "143     True  25 32 11b 25 item po qti 001 1 002 1 003 1 004...            1  \n",
       "144     True  26 32 11b 25 item po qti 039 23 8 040 29 8 041...            1  \n",
       "145     True  27 32 12a 25 item po qti 001 1 002 1 003 1 004...            1  \n",
       "146     True  28 32 12b 25 item po qti 1 001 1 002 1 003 1 0...            1  \n",
       "147     True  29 32 13 25 item po qti 001 1 pack list eng pk...            1  \n",
       "148     True  30 32 13 b 25 item po qti 001 1 pack list eng ...            1  \n",
       "149     True  31 32 14 25 item po qti 001 2 002 2 003 16 004...            1  \n",
       "150     True  32 32 15 25 item po qti 001 1 002 09 4 003 10 ...            1  \n",
       "156     True  neuman esser gmbh co kg page 1 7 descript part...            1  \n",
       "157     True  neuman esser gmbh co kg page 2 7 descript part...            1  \n",
       "158     True  neuman esser gmbh co kg page 3 7 descript part...            1  \n",
       "159     True  neuman esser gmbh co kg page 4 7 descript part...            1  \n",
       "160     True  neuman esser gmbh co kg page 5 7 descript part...            1  \n",
       "161     True  neuman esser gmbh co kg page 6 7 descript part...            1  \n",
       "162     True  neuman esser gmbh co kg page 7 7 descript part...            1  \n",
       "163     True  neuman esser gmbh co kg page 1 7 descript part...            1  \n",
       "164     True  neuman esser gmbh co kg page 2 7 descript part...            1  \n",
       "165     True  neuman esser gmbh co kg page 3 7 descript part...            1  \n",
       "166     True  neuman esser gmbh co kg page 4 7 descript part...            1  \n",
       "167     True  neuman esser gmbh co kg page 5 7 descript part...            1  \n",
       "168     True  neuman esser gmbh co kg page 6 7 descript part...            1  \n",
       "169     True  neuman esser gmbh co kg page 7 7 descript part...            1  \n",
       "716     True  refno partno sapno spare part list typ rvp4 pr...            1  \n",
       "717     True  refno partno sapno spare part list typ rvp4 pr...            1  \n",
       "718     True  refno partno sapno spare part list typ rvp4 pr...            1  "
      ]
     },
     "execution_count": 101,
     "metadata": {},
     "output_type": "execute_result"
    }
   ],
   "source": [
    "test_data[(test_data.is_scan == True) & (test_data.is_interest ==1)]"
   ]
  },
  {
   "cell_type": "code",
   "execution_count": 102,
   "metadata": {},
   "outputs": [],
   "source": [
    "# pip install pdfplumber"
   ]
  },
  {
   "cell_type": "code",
   "execution_count": 97,
   "metadata": {},
   "outputs": [
    {
     "data": {
      "image/png": "[encoded data removed]",
      "text/plain": [
       "<pdfplumber.display.PageImage at 0x2139c976310>"
      ]
     },
     "execution_count": 97,
     "metadata": {},
     "output_type": "execute_result"
    }
   ],
   "source": [
    "import pdfplumber\n",
    "page_number = 0\n",
    "pdf_path = test_data['path'][0]\n",
    "\n",
    "with pdfplumber.open(pdf_path) as pdf:\n",
    "    pages = pdf.pages\n",
    "    page = pages[page_number]\n",
    "page.to_image()\n"
   ]
  },
  {
   "cell_type": "markdown",
   "metadata": {},
   "source": [
    "## Table d'interret issue d'u tableau scannée"
   ]
  },
  {
   "cell_type": "code",
   "execution_count": 103,
   "metadata": {},
   "outputs": [
    {
     "data": {
      "image/png": "[encoded data removed]",
      "text/plain": [
       "<pdfplumber.display.PageImage at 0x2139c995bd0>"
      ]
     },
     "execution_count": 103,
     "metadata": {},
     "output_type": "execute_result"
    }
   ],
   "source": [
    "page_number = 1\n",
    "pdf_path = test_data['path'][63]\n",
    "\n",
    "with pdfplumber.open(pdf_path) as pdf:\n",
    "    pages = pdf.pages\n",
    "    page = pages[page_number]\n",
    "page.to_image()"
   ]
  },
  {
   "cell_type": "code",
   "execution_count": null,
   "metadata": {},
   "outputs": [],
   "source": []
  }
 ],
 "metadata": {
  "colab": {
   "provenance": []
  },
  "kernelspec": {
   "display_name": "Python 3 (ipykernel)",
   "language": "python",
   "name": "python3"
  },
  "language_info": {
   "codemirror_mode": {
    "name": "ipython",
    "version": 3
   },
   "file_extension": ".py",
   "mimetype": "text/x-python",
   "name": "python",
   "nbconvert_exporter": "python",
   "pygments_lexer": "ipython3",
   "version": "3.11.4"
  }
 },
 "nbformat": 4,
 "nbformat_minor": 4
}
